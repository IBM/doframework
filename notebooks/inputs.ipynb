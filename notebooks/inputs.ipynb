{
 "cells": [
  {
   "cell_type": "markdown",
   "id": "e7ef4fe1",
   "metadata": {},
   "source": [
    "# Inputs\n",
    "\n",
    "Generate json input files to run an experiment with `doframework`. \n",
    "\n",
    "The products of this script will be written to `inputs` bucket as specified in `configs.yaml`. "
   ]
  },
  {
   "cell_type": "code",
   "execution_count": 1,
   "id": "3ae69f70",
   "metadata": {},
   "outputs": [],
   "source": [
    "import json\n",
    "import yaml\n",
    "import os\n",
    "\n",
    "import numpy as np\n",
    "from doframework.core.inputs import generate_id\n",
    "from doframework import api"
   ]
  },
  {
   "cell_type": "markdown",
   "id": "adb0d1e9",
   "metadata": {},
   "source": [
    "# Configs"
   ]
  },
  {
   "cell_type": "code",
   "execution_count": 2,
   "id": "b0953f0b",
   "metadata": {},
   "outputs": [],
   "source": [
    "configs_path = '..' # TODO: provide path\n",
    "configs_file = 'configs.yaml'\n",
    "\n",
    "with open(os.path.join(configs_path,configs_file),'r') as file:\n",
    "    try:\n",
    "        configs = yaml.safe_load(file)\n",
    "    except yaml.YAMLError as exc:\n",
    "        print(exc)        "
   ]
  },
  {
   "cell_type": "markdown",
   "id": "81de47df",
   "metadata": {},
   "source": [
    "# S3"
   ]
  },
  {
   "cell_type": "code",
   "execution_count": 3,
   "id": "96e70459",
   "metadata": {},
   "outputs": [],
   "source": [
    "buckets = api._get_buckets(configs)"
   ]
  },
  {
   "cell_type": "markdown",
   "id": "e763e792",
   "metadata": {},
   "source": [
    "# File Format"
   ]
  },
  {
   "cell_type": "code",
   "execution_count": 4,
   "id": "89a1b755",
   "metadata": {},
   "outputs": [],
   "source": [
    "output_prefix = 'input'\n",
    "output_suffix = 'json'"
   ]
  },
  {
   "cell_type": "markdown",
   "id": "9aedddbe",
   "metadata": {},
   "source": [
    "# Input Combinations"
   ]
  },
  {
   "cell_type": "code",
   "execution_count": 5,
   "id": "831d45a8",
   "metadata": {},
   "outputs": [],
   "source": [
    "L = 10.0 # length scale \n",
    "dimensions = [2,3]\n",
    "interval = [0.0,L]"
   ]
  },
  {
   "cell_type": "code",
   "execution_count": 6,
   "id": "b9e50b03",
   "metadata": {},
   "outputs": [],
   "source": [
    "vertex_ranges = [d*[interval] for d in dimensions]\n",
    "vertex_nums = [[(d+1)+int(j*np.log(L)) for j in range(1,d+1)] for d in dimensions] # TODO: change\n",
    "value_ranges = [[[np.min(np.array(r))-(np.max(np.array(r))-np.min(np.array(r)))/2,\n",
    "                np.max(np.array(r))-(np.max(np.array(r))-np.min(np.array(r)))/2]]+\n",
    "                [[np.min(np.array(r))-(2*np.max(np.array(r))-np.min(np.array(r)))/2,\n",
    "                2*np.max(np.array(r))-(2*np.max(np.array(r))-np.min(np.array(r)))/2]] for r in vertex_ranges]\n",
    "policies = [[2+j for j in range(1,int(max(N)/3),3)] for N in vertex_nums]\n",
    "\n",
    "omega_ratios = [0.7,0.9]\n",
    "omega_scales = [0.001,0.01]\n",
    "Ns = [500,1000]\n",
    "noises = [0.5,0.1]\n",
    "data_scales = [0.6,0.8]"
   ]
  },
  {
   "cell_type": "markdown",
   "id": "d38601c1",
   "metadata": {},
   "source": [
    "### produce output"
   ]
  },
  {
   "cell_type": "code",
   "execution_count": 7,
   "id": "3525286d",
   "metadata": {},
   "outputs": [],
   "source": [
    "limit = None # TODO: test with limit = 1\n",
    "outputs = []"
   ]
  },
  {
   "cell_type": "code",
   "execution_count": 8,
   "id": "f5939843",
   "metadata": {},
   "outputs": [
    {
     "name": "stdout",
     "output_type": "stream",
     "text": [
      "Uploaded 320 input files to bucket autodo-simulations-inputs.\n"
     ]
    }
   ],
   "source": [
    "for d,vertex_range in enumerate(vertex_ranges):\n",
    "    for vertex_num in vertex_nums[d][:limit]:\n",
    "        for value_range in value_ranges[d][:limit]:\n",
    "            for ratio in omega_ratios[:][:limit]:\n",
    "                for omega_scale in omega_scales[:limit]:\n",
    "                    for N in Ns[:limit]:\n",
    "                        for noise in noises[:limit]:\n",
    "                            for policy in policies[d][:limit]:\n",
    "                                for data_scale in data_scales[:limit]:\n",
    "\n",
    "                                    output = {}\n",
    "                                    output['f'] = {}\n",
    "                                    output['f']['vertices'] = {}\n",
    "                                    output['f']['values'] = {}\n",
    "                                    output['omega'] = {}\n",
    "                                    output['data'] = {}\n",
    "                                    \n",
    "                                    output['f']['vertices']['num'] = vertex_num\n",
    "                                    output['f']['vertices']['range'] = vertex_range\n",
    "                                    output['f']['values']['range'] = value_range\n",
    "                                    output['omega']['ratio'] = ratio\n",
    "                                    output['omega']['scale'] = omega_scale\n",
    "                                    output['data']['N'] = N\n",
    "                                    output['data']['noise'] = noise\n",
    "                                    output['data']['policy_num'] = policy\n",
    "                                    output['data']['scale'] = data_scale\n",
    "                                    \n",
    "                                    output_id = generate_id()\n",
    "                                    file = ''.join(['_'.join([output_prefix,output_id]),'.',output_suffix])\n",
    "                                    output['input_file_name'] = file                             \n",
    "                                    \n",
    "                                    outputs.append(output)\n",
    "\n",
    "                                    api._get_s3_object(configs).Bucket(buckets['inputs']).\\\n",
    "                                        put_object(Body=json.dumps(output),Key=file)\n",
    "\n",
    "print('Uploaded {} input files to bucket {}.'.format(len(outputs),buckets['inputs']))"
   ]
  },
  {
   "cell_type": "code",
   "execution_count": null,
   "id": "6424f1e9",
   "metadata": {},
   "outputs": [],
   "source": []
  }
 ],
 "metadata": {
  "kernelspec": {
   "display_name": "Python 3",
   "language": "python",
   "name": "python3"
  },
  "language_info": {
   "codemirror_mode": {
    "name": "ipython",
    "version": 3
   },
   "file_extension": ".py",
   "mimetype": "text/x-python",
   "name": "python",
   "nbconvert_exporter": "python",
   "pygments_lexer": "ipython3",
   "version": "3.9.0"
  }
 },
 "nbformat": 4,
 "nbformat_minor": 5
}
