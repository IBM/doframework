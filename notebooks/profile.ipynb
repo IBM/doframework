{
 "cells": [
  {
   "cell_type": "markdown",
   "id": "6cb399d6",
   "metadata": {},
   "source": [
    "# Algorithm Performance Profile\n",
    "\n",
    "Produce an algorithm profile following an experiment with `doframework`. "
   ]
  },
  {
   "cell_type": "code",
   "execution_count": 1,
   "id": "44d499f8",
   "metadata": {},
   "outputs": [],
   "source": [
    "import os\n",
    "import yaml\n",
    "import json\n",
    "\n",
    "import pandas as pd\n",
    "import numpy as np\n",
    "import matplotlib.pyplot as plt\n",
    "from scipy.stats import gaussian_kde\n",
    "\n",
    "from doframework.core.storage import Storage\n",
    "from doframework.core.inputs import get_configs\n",
    "from doframework.core.gp import find_modal\n",
    "from doframework.flow.metrics import files_from_solution"
   ]
  },
  {
   "cell_type": "markdown",
   "id": "51bbd807",
   "metadata": {},
   "source": [
    "# Configs"
   ]
  },
  {
   "cell_type": "code",
   "execution_count": 2,
   "id": "fae99043",
   "metadata": {},
   "outputs": [],
   "source": [
    "configs_root = os.environ['HOME']\n",
    "configs_file = 'ibm_configs.yaml'\n",
    "configs_path = os.path.join(configs_root,configs_file)\n",
    "\n",
    "configs = get_configs(configs_path)"
   ]
  },
  {
   "cell_type": "markdown",
   "id": "5d5fc93a",
   "metadata": {},
   "source": [
    "# Storage"
   ]
  },
  {
   "cell_type": "code",
   "execution_count": 3,
   "id": "ccde375b",
   "metadata": {},
   "outputs": [],
   "source": [
    "storage = Storage(configs)"
   ]
  },
  {
   "cell_type": "code",
   "execution_count": 4,
   "id": "194317ba",
   "metadata": {},
   "outputs": [],
   "source": [
    "buckets = storage.buckets()"
   ]
  },
  {
   "cell_type": "code",
   "execution_count": 5,
   "id": "896b5466",
   "metadata": {},
   "outputs": [],
   "source": [
    "solution_files = storage.get_all(buckets['solutions'],'json')"
   ]
  },
  {
   "cell_type": "markdown",
   "id": "a863971c",
   "metadata": {},
   "source": [
    "# Problem Type\n",
    "\n",
    "A minimum or maximum problems in experiment."
   ]
  },
  {
   "cell_type": "code",
   "execution_count": 6,
   "id": "0cd073e6",
   "metadata": {},
   "outputs": [],
   "source": [
    "opt = 'min'"
   ]
  },
  {
   "cell_type": "markdown",
   "id": "313fb364",
   "metadata": {},
   "source": [
    "# Fetch Results"
   ]
  },
  {
   "cell_type": "code",
   "execution_count": 7,
   "id": "0deab62f",
   "metadata": {},
   "outputs": [],
   "source": [
    "rel_perfs = []\n",
    "\n",
    "for file in solution_files:\n",
    "    \n",
    "    solution_name = file.key if 's3' in configs else file.name\n",
    "    \n",
    "    solution_obj = storage.get(buckets['solutions'],solution_name)\n",
    "    solution = json.load(solution_obj)\n",
    "            \n",
    "    assoc_files = files_from_solution(solution_name)\n",
    "    \n",
    "    # get relevant objective\n",
    "    objective_name = assoc_files['objective']\n",
    "    objective_obj = storage.get(buckets['objectives_dest'],objective_name)\n",
    "    objective = json.load(objective_obj)\n",
    "    \n",
    "    # get relevant data\n",
    "    data_name = assoc_files['data']\n",
    "    data_obj = storage.get(buckets['data_dest'],data_name)\n",
    "    data = pd.read_csv(data_obj)\n",
    "    dim = data.iloc[:,:-1].shape[-1]\n",
    "        \n",
    "    if solution['solution'][opt] != 'FAILED':\n",
    "        \n",
    "        solution_val = solution['solution'][opt]['value']\n",
    "        true_min_val = objective['optimum']['min']['value']\n",
    "        true_max_val = objective['optimum']['max']['value']\n",
    "\n",
    "        rel_perf = (solution_val-true_min_val)/(true_max_val-true_min_val)\n",
    "        rel_perfs.append([solution_name,objective_name,data_name,dim,rel_perf,True])\n",
    "        \n",
    "    else:\n",
    "        \n",
    "        rel_perfs.append([solution_name,objective_name,data_name,dim,np.nan,False])        \n",
    "            "
   ]
  },
  {
   "cell_type": "markdown",
   "id": "be705a7d",
   "metadata": {},
   "source": [
    "# Performance"
   ]
  },
  {
   "cell_type": "code",
   "execution_count": 8,
   "id": "1aec1273",
   "metadata": {},
   "outputs": [],
   "source": [
    "df = pd.DataFrame(rel_perfs,columns=['solution','objective','data','dimension','performance','success'])"
   ]
  },
  {
   "cell_type": "code",
   "execution_count": 9,
   "id": "516436ff",
   "metadata": {},
   "outputs": [
    {
     "data": {
      "text/html": [
       "<div>\n",
       "<style scoped>\n",
       "    .dataframe tbody tr th:only-of-type {\n",
       "        vertical-align: middle;\n",
       "    }\n",
       "\n",
       "    .dataframe tbody tr th {\n",
       "        vertical-align: top;\n",
       "    }\n",
       "\n",
       "    .dataframe thead th {\n",
       "        text-align: right;\n",
       "    }\n",
       "</style>\n",
       "<table border=\"1\" class=\"dataframe\">\n",
       "  <thead>\n",
       "    <tr style=\"text-align: right;\">\n",
       "      <th></th>\n",
       "      <th>solution</th>\n",
       "      <th>dimension</th>\n",
       "      <th>performance</th>\n",
       "      <th>success</th>\n",
       "    </tr>\n",
       "  </thead>\n",
       "  <tbody>\n",
       "    <tr>\n",
       "      <th>0</th>\n",
       "      <td>solution_80kglwzy_h48iairw_d5i4i6hy.json</td>\n",
       "      <td>5</td>\n",
       "      <td>0.535730</td>\n",
       "      <td>True</td>\n",
       "    </tr>\n",
       "    <tr>\n",
       "      <th>1</th>\n",
       "      <td>solution_4hvp7lb4_6573fo52_h4ws714j.json</td>\n",
       "      <td>5</td>\n",
       "      <td>0.069162</td>\n",
       "      <td>True</td>\n",
       "    </tr>\n",
       "    <tr>\n",
       "      <th>2</th>\n",
       "      <td>solution_4hvp7lb4_7afa38ve_9vqmyg7h.json</td>\n",
       "      <td>5</td>\n",
       "      <td>0.069162</td>\n",
       "      <td>True</td>\n",
       "    </tr>\n",
       "    <tr>\n",
       "      <th>3</th>\n",
       "      <td>solution_80kglwzy_yr5b9tn6_hy7hintd.json</td>\n",
       "      <td>5</td>\n",
       "      <td>0.535730</td>\n",
       "      <td>True</td>\n",
       "    </tr>\n",
       "    <tr>\n",
       "      <th>4</th>\n",
       "      <td>solution_egmxpel4_e6g8v0py_x3lovfq3.json</td>\n",
       "      <td>5</td>\n",
       "      <td>1.000000</td>\n",
       "      <td>True</td>\n",
       "    </tr>\n",
       "  </tbody>\n",
       "</table>\n",
       "</div>"
      ],
      "text/plain": [
       "                                   solution  dimension  performance  success\n",
       "0  solution_80kglwzy_h48iairw_d5i4i6hy.json          5     0.535730     True\n",
       "1  solution_4hvp7lb4_6573fo52_h4ws714j.json          5     0.069162     True\n",
       "2  solution_4hvp7lb4_7afa38ve_9vqmyg7h.json          5     0.069162     True\n",
       "3  solution_80kglwzy_yr5b9tn6_hy7hintd.json          5     0.535730     True\n",
       "4  solution_egmxpel4_e6g8v0py_x3lovfq3.json          5     1.000000     True"
      ]
     },
     "execution_count": 9,
     "metadata": {},
     "output_type": "execute_result"
    }
   ],
   "source": [
    "df[['solution','dimension','performance','success']].head()"
   ]
  },
  {
   "cell_type": "code",
   "execution_count": 10,
   "id": "de42551e",
   "metadata": {},
   "outputs": [
    {
     "name": "stdout",
     "output_type": "stream",
     "text": [
      "Reviewed 9 solutions.\n",
      "Of those, 100.00% succsessful.\n"
     ]
    }
   ],
   "source": [
    "solution_num = df.shape[0]\n",
    "solution_good = df[~df.performance.isna()].shape[0]\n",
    "\n",
    "print('Reviewed {} solutions.'.format(solution_num))\n",
    "print('Of those, {:.2f}% succsessful.'.format(100*(solution_good/solution_num)))"
   ]
  },
  {
   "cell_type": "markdown",
   "id": "9909b795",
   "metadata": {},
   "source": [
    "# Profile\n",
    "\n",
    "Let's see how performance scores are distributed.\n",
    "\n",
    "The score of a predicted optimum $\\hat{x}^*$ relative to the true optimum is\n",
    "\n",
    "$$\\text{score}(\\hat{x}^*) = \\frac{f(\\hat{x}^*)-f(x_\\min)}{f(x_\\max)-f(x_\\min)}$$"
   ]
  },
  {
   "cell_type": "code",
   "execution_count": null,
   "id": "facb1302",
   "metadata": {},
   "outputs": [],
   "source": [
    "plt.hist(df.performance,density=True,bins=20)\n",
    "plt.title('Algorithm Profile:\\n{} problem, {} solutions, dimensions {}-{}'.\\\n",
    "          format(opt,solution_good,min(df.dimension),max(df.dimension)))\n",
    "plt.xlabel(r'$(f(\\hat{x}^*)-f(x_\\min))\\,/\\,(f(x_\\max)-f(x_\\min))$',fontsize=16)\n",
    "plt.ylabel(r'Density',fontsize=16)\n",
    "plt.show()"
   ]
  },
  {
   "cell_type": "code",
   "execution_count": null,
   "id": "f2186f0e",
   "metadata": {
    "scrolled": true
   },
   "outputs": [],
   "source": [
    "print('Mean Performance: {:.2f}'.format(df.performance.mean()))\n",
    "print('Median Performance: {:.2f}'.format(df.performance.median()))\n",
    "print('Distribution Modal: {:.2f}'.format(find_modal(df[~df.performance.isna()].performance)))"
   ]
  },
  {
   "cell_type": "markdown",
   "id": "f77738a3",
   "metadata": {},
   "source": [
    "# Probability\n",
    "\n",
    "Estimate the probability \n",
    "$$Pr[f(\\hat{x}^*) < f(x_{\\min}) + \\epsilon \\cdot (f(x_{\\max})-f(x_{\\min})) \\, \\vert \\, \\Omega]$$\n",
    "for an algorithm predicted optimum $\\hat{x}^*$ of $f$ in $\\Omega$."
   ]
  },
  {
   "cell_type": "code",
   "execution_count": null,
   "id": "819961f4",
   "metadata": {},
   "outputs": [],
   "source": [
    "kde = gaussian_kde(df[~df.performance.isna()].performance)\n",
    "\n",
    "epsilon = 0.4\n",
    "\n",
    "print('Estimated performance probability: {:.2f}'.format(kde.integrate_box_1d(0,epsilon)))"
   ]
  },
  {
   "cell_type": "code",
   "execution_count": null,
   "id": "15909f58",
   "metadata": {},
   "outputs": [],
   "source": []
  }
 ],
 "metadata": {
  "kernelspec": {
   "display_name": "Python 3 (ipykernel)",
   "language": "python",
   "name": "python3"
  },
  "language_info": {
   "codemirror_mode": {
    "name": "ipython",
    "version": 3
   },
   "file_extension": ".py",
   "mimetype": "text/x-python",
   "name": "python",
   "nbconvert_exporter": "python",
   "pygments_lexer": "ipython3",
   "version": "3.8.0"
  }
 },
 "nbformat": 4,
 "nbformat_minor": 5
}
